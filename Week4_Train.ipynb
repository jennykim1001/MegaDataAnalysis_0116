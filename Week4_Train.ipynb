{
  "nbformat": 4,
  "nbformat_minor": 0,
  "metadata": {
    "colab": {
      "provenance": [],
      "include_colab_link": true
    },
    "kernelspec": {
      "name": "python3",
      "display_name": "Python 3"
    },
    "language_info": {
      "name": "python"
    }
  },
  "cells": [
    {
      "cell_type": "markdown",
      "metadata": {
        "id": "view-in-github",
        "colab_type": "text"
      },
      "source": [
        "<a href=\"https://colab.research.google.com/github/jennykim1001/MegaDataAnalysis_0116/blob/main/Week4_Train.ipynb\" target=\"_parent\"><img src=\"https://colab.research.google.com/assets/colab-badge.svg\" alt=\"Open In Colab\"/></a>"
      ]
    },
    {
      "cell_type": "code",
      "source": [
        "# Drive Mount 실행\n",
        "from google.colab import drive\n",
        "drive.mount('/content/drive')"
      ],
      "metadata": {
        "id": "2sbS8RCpDmOb"
      },
      "execution_count": null,
      "outputs": []
    },
    {
      "cell_type": "code",
      "source": [],
      "metadata": {
        "id": "6hLufvj82r4Z"
      },
      "execution_count": null,
      "outputs": []
    },
    {
      "cell_type": "code",
      "source": [],
      "metadata": {
        "id": "V_WtYXf22sc_"
      },
      "execution_count": null,
      "outputs": []
    },
    {
      "cell_type": "code",
      "source": [],
      "metadata": {
        "id": "eTpzCN8e2srH"
      },
      "execution_count": null,
      "outputs": []
    },
    {
      "cell_type": "markdown",
      "source": [
        "### 1. CSV 파일 읽어오기\n",
        "* 유기동물보호현황.txt 파일을 불러오세요.<br>\n",
        "  단, 구분기호 : 탭(tab), 3행을 열(column)이름으로 설정\n",
        "* 변수명 = pd.read_csv('파일경로명',delimiter='구분기호', header=행번호)"
      ],
      "metadata": {
        "id": "I79YcCbuafae"
      }
    },
    {
      "cell_type": "code",
      "source": [
        "# pandas 라이브러리 import\n",
        "# 유기동물보호현황.txt 파일 불러와서 wData 변수에 저장\n",
        "\n",
        "\n"
      ],
      "metadata": {
        "id": "1Bt8ER_T8Tx7"
      },
      "execution_count": null,
      "outputs": []
    },
    {
      "cell_type": "markdown",
      "source": [
        "### 2. 데이터 확인\n"
      ],
      "metadata": {
        "id": "kOlvwOdqckYm"
      }
    },
    {
      "cell_type": "markdown",
      "source": [
        "* .shape 속성 <br>: 데이터의 (행,열) 크기 확인"
      ],
      "metadata": {
        "id": "RtHNHZfBdT9h"
      }
    },
    {
      "cell_type": "code",
      "source": [
        "\n",
        "\n"
      ],
      "metadata": {
        "id": "Sowqnat4dc3v"
      },
      "execution_count": null,
      "outputs": []
    },
    {
      "cell_type": "markdown",
      "source": [
        "* .info( ) 함수 <br>: 데이터를 구성하는 행과 열의 크기, 컬럼명, 컬럼을 구성하는 값의 자료형 등의 전반적인 정보를 출력\n"
      ],
      "metadata": {
        "id": "5-4ZeejBdj09"
      }
    },
    {
      "cell_type": "markdown",
      "source": [
        "#### Q. 다음의 정보에 답해 보세요.\n",
        "* 행의 개수 ?\n",
        "* 열의 개수 ?\n",
        "* null이 있는 데이터 ?\n",
        "* 데이터 유형과 유형별 개수 ?\n",
        "\n"
      ],
      "metadata": {
        "id": "mHfDnbxTecyE"
      }
    },
    {
      "cell_type": "code",
      "source": [
        "\n",
        "\n"
      ],
      "metadata": {
        "id": "scAgwCBUd7p7"
      },
      "execution_count": null,
      "outputs": []
    },
    {
      "cell_type": "markdown",
      "source": [
        "* .head([숫자])/.tail([숫자]) 함수<br>\n",
        "  : 데이터의 앞 부분과 마지막 부분을 확인"
      ],
      "metadata": {
        "id": "sNbcVAAudi12"
      }
    },
    {
      "cell_type": "code",
      "source": [
        "# 상위 5개의 데이터 확인\n",
        "\n"
      ],
      "metadata": {
        "id": "Cctjyy77f9Zq"
      },
      "execution_count": null,
      "outputs": []
    },
    {
      "cell_type": "code",
      "source": [
        "# 하위 10개의 데이터 확인\n",
        "\n"
      ],
      "metadata": {
        "id": "80rfpE7TgHh-"
      },
      "execution_count": null,
      "outputs": []
    },
    {
      "cell_type": "markdown",
      "source": [
        "* .index / .columns 속성<br>\n",
        "  : 인덱스와 열의 레이블 출력"
      ],
      "metadata": {
        "id": "AeGtZa14gbw7"
      }
    },
    {
      "cell_type": "code",
      "source": [
        "# 인덱스 출력\n",
        "\n"
      ],
      "metadata": {
        "id": "PG99BPpkgoTN"
      },
      "execution_count": null,
      "outputs": []
    },
    {
      "cell_type": "code",
      "source": [
        "# 컬럼 출력\n",
        "\n"
      ],
      "metadata": {
        "id": "v5D8VLTlgyMc"
      },
      "execution_count": null,
      "outputs": []
    },
    {
      "cell_type": "markdown",
      "source": [
        "* .describe([include='object'/'all']) 함수 <br>\n",
        "  - 데이터의 컬럼별 요약 통계량 출력\n",
        "  - mean( ), max( ), median( ) 등 개별 함수를 사용하여 통계량 계산 가능"
      ],
      "metadata": {
        "id": "ZNNy3zSFhIAd"
      }
    },
    {
      "cell_type": "code",
      "source": [
        "\n"
      ],
      "metadata": {
        "id": "6QT-6o7ghN6g"
      },
      "execution_count": null,
      "outputs": []
    },
    {
      "cell_type": "code",
      "source": [
        "# 옵션 사용\n",
        "\n"
      ],
      "metadata": {
        "id": "j-Gtfprwj615"
      },
      "execution_count": null,
      "outputs": []
    },
    {
      "cell_type": "code",
      "source": [
        "# .mean(), .max(), .count() 함수 이용\n",
        "\n"
      ],
      "metadata": {
        "id": "0952VANThsBE"
      },
      "execution_count": null,
      "outputs": []
    },
    {
      "cell_type": "markdown",
      "source": [
        "* 변수명['열이름'].values 속성<br>\n",
        " : 해당 열의 값(데이터) 출력<br>\n",
        "* 변수명['열이름'].unique() 함수<br>\n",
        " : 데이터가 어떤 구성으로 이루어져 있는지 확인, 해당 열의 고유값 확인"
      ],
      "metadata": {
        "id": "cc1GEtUvkbdk"
      }
    },
    {
      "cell_type": "code",
      "source": [
        "# wData 데이터프레임의 컬럼을 확인하고, '시점' 열의 고유값을 확인\n",
        "\n",
        "\n"
      ],
      "metadata": {
        "id": "M3TLDuMKkyg7"
      },
      "execution_count": null,
      "outputs": []
    },
    {
      "cell_type": "code",
      "source": [
        "# wData 데이터프레임의 '자치구별(2)' 열의 고유값을 확인\n",
        "\n",
        "\n",
        "\n"
      ],
      "metadata": {
        "id": "UYij7jlDBlJT"
      },
      "execution_count": null,
      "outputs": []
    },
    {
      "cell_type": "markdown",
      "source": [
        "* 변수명['열이름'].value_counts(normalize=True, sort=False)<br>\n",
        " : 범주형 변수의 빈도분석 결과를 출력\n"
      ],
      "metadata": {
        "id": "eX8N_tjBmMlg"
      }
    },
    {
      "cell_type": "code",
      "source": [
        "# wData 데이터프레임의 '시점' 열의 빈도분석\n",
        "\n",
        "\n"
      ],
      "metadata": {
        "id": "ANGzOBNjmiLH"
      },
      "execution_count": null,
      "outputs": []
    },
    {
      "cell_type": "markdown",
      "source": [
        "### 3. 데이터 선택\n"
      ],
      "metadata": {
        "id": "fz_hlKv9noY4"
      }
    },
    {
      "cell_type": "markdown",
      "source": [
        "* 행 인덱싱(행 선택)\n",
        " - 변수명[시작 index번호 : 마지막 index번호 : 증가값]<br>\n",
        "   예) data[ 0 : 3 ], data[ : 3], data[3 : : 3]\n",
        " - 변수명[index이름1 : index이름2 ]<br>\n",
        "   예) data['광진구' : '성북구']\n"
      ],
      "metadata": {
        "id": "nH7uZjHQrV4z"
      }
    },
    {
      "cell_type": "code",
      "source": [
        "# 3행 ~ 끝까지, 3행씩 건너뛰어 출력\n",
        "\n"
      ],
      "metadata": {
        "id": "ZzU3Ws5UozoP"
      },
      "execution_count": null,
      "outputs": []
    },
    {
      "cell_type": "code",
      "source": [
        "# 3행 ~ 30행까지 출력\n",
        "\n"
      ],
      "metadata": {
        "id": "Xm0FoFh2r6AM"
      },
      "execution_count": null,
      "outputs": []
    },
    {
      "cell_type": "code",
      "source": [
        "# '자치구별(2)' 컬럼을 인덱스로 설정(.index 속성 )\n",
        "\n"
      ],
      "metadata": {
        "id": "VqiyWNyRpKL_"
      },
      "execution_count": null,
      "outputs": []
    },
    {
      "cell_type": "code",
      "source": [
        "# '광진구' ~ '성북구' 행 출력\n",
        "\n"
      ],
      "metadata": {
        "id": "GE4x3xcdoDD3"
      },
      "execution_count": null,
      "outputs": []
    },
    {
      "cell_type": "markdown",
      "source": [
        "* 열 인덱싱(열 선택) <br>\n",
        " - 변수명['열이름'] : 하나의 열만 인덱싱 = df.열이름<br>\n",
        " - 변수명[['열이름']] 하나의 열만 인덱싱 하는데, **데이터프레임모양**으로 출력<br>\n",
        " - 변수명 [['열이름1','열이름2']] : '열이름1','열이름2' 인덱싱"
      ],
      "metadata": {
        "id": "aMPD7TporZHl"
      }
    },
    {
      "cell_type": "code",
      "source": [
        "# '소계'열 출력\n",
        "\n"
      ],
      "metadata": {
        "id": "b19yHrRUtYMT"
      },
      "execution_count": null,
      "outputs": []
    },
    {
      "cell_type": "code",
      "source": [
        "# '소계'열 출력\n",
        "\n"
      ],
      "metadata": {
        "id": "ua7S5SzCvKj3"
      },
      "execution_count": null,
      "outputs": []
    },
    {
      "cell_type": "code",
      "source": [
        "# '소계'열 데이터프레임모양으로 출력\n",
        "\n"
      ],
      "metadata": {
        "id": "3xC2IRgn1e2v"
      },
      "execution_count": null,
      "outputs": []
    },
    {
      "cell_type": "code",
      "source": [
        "# '소계.1', '소계.3' 열 출력\n",
        "\n",
        "\n"
      ],
      "metadata": {
        "id": "bDAsZCbMvRFY"
      },
      "execution_count": null,
      "outputs": []
    },
    {
      "cell_type": "markdown",
      "source": [
        "* loc / iloc 속성 <br>\n",
        " - 변수명.loc[ index이름 , columns이름 ]\n",
        "   * 변수명.loc [index이름] : 하나의 행만 인덱싱<br>\n",
        "   * 변수명.loc [index이름1:index이름2] : index이름1 ~ index이름2 행 인덱싱<br>\n",
        "   * 변수명.loc [[index이름1,index이름2]] : index이름1와 index이름2 행만 인덱싱<br>\n",
        "   * 변수명.loc [ : , 'columns이름' ] : 하나의 열만 인덱싱<br>\n",
        "   * 변수명.loc [ : , 'columns이름1' : 'columns이름2' ] : 'columns이름1' ~ 'columns이름2'까지 인덱싱\n",
        "   * 변수명.loc [ : , [ 'columns이름1' , 'columns이름2' ] ] : 'columns이름1', 'columns이름2' 만 인덱싱\n",
        "   * 변수명.loc ['index이름1' : 'index이름2', 'columns이름1' : 'columns이름2' ]\n",
        "   * 변수명.loc [ [ 'index이름1' , 'index이름2' ] , [ 'columns이름1' , 'columns이름2' ] ]\n",
        " - 변수명 . iloc [ index번호 , columns번호 ]\n"
      ],
      "metadata": {
        "id": "f4uBrfVbKcVX"
      }
    },
    {
      "cell_type": "code",
      "source": [
        "# '광진구' ~ '성북구' 행 출력, .loc 이용\n",
        "\n"
      ],
      "metadata": {
        "id": "jKMwlWNRLBBg"
      },
      "execution_count": null,
      "outputs": []
    },
    {
      "cell_type": "code",
      "source": [
        "# '광진구'와 '성북구' 행만 출력, .loc 이용\n",
        "\n"
      ],
      "metadata": {
        "id": "Hjdx61hbLF6o"
      },
      "execution_count": null,
      "outputs": []
    },
    {
      "cell_type": "code",
      "source": [
        "# '소계.1' ~ '계류기증.1' 열 출력, .loc 이용\n",
        "\n"
      ],
      "metadata": {
        "id": "gcNk5C9mtfZE"
      },
      "execution_count": null,
      "outputs": []
    },
    {
      "cell_type": "code",
      "source": [
        "# '소계.1'과 '계류기증.1' 열만 출력, .loc 이용\n",
        "\n",
        "\n"
      ],
      "metadata": {
        "id": "JrQtd8TKMW2L"
      },
      "execution_count": null,
      "outputs": []
    },
    {
      "cell_type": "code",
      "source": [
        "# '강남구' 행 출력, loc 이용\n",
        "\n"
      ],
      "metadata": {
        "id": "35hiSwgrrbsH"
      },
      "execution_count": null,
      "outputs": []
    },
    {
      "cell_type": "code",
      "source": [
        "# '강남구' 행의 '소계.1' ~ '계류기증.1' 열 출력, .loc 이용\n",
        "\n"
      ],
      "metadata": {
        "id": "y2mBmBaSDnE-"
      },
      "execution_count": null,
      "outputs": []
    },
    {
      "cell_type": "code",
      "source": [
        "# '강남구' 행의 '소계.1'과 '계류기증.1' 열만 출력, .loc 이용\n",
        "\n"
      ],
      "metadata": {
        "id": "SiPDfqGkDvrN"
      },
      "execution_count": null,
      "outputs": []
    },
    {
      "cell_type": "code",
      "source": [
        "# '강남구'와 '강동구' 행의 '소계.1' ~ '계류기증.1' 열 출력, .loc 이용\n",
        "\n"
      ],
      "metadata": {
        "id": "vLhhzwFKEyDy"
      },
      "execution_count": null,
      "outputs": []
    },
    {
      "cell_type": "code",
      "source": [
        "# '강남구' ~ '강동구' 행의 '소계.1' ~ '계류기증.1' 열 출력, .loc 이용\n",
        "\n"
      ],
      "metadata": {
        "id": "DaXPMT39EAGz"
      },
      "execution_count": null,
      "outputs": []
    },
    {
      "cell_type": "code",
      "source": [
        "# '종로구' ~ '용산구' 행의 '소계.1' ~ '계류기증' 열 출력, .iloc 이용\n",
        "\n",
        "\n"
      ],
      "metadata": {
        "id": "7U5APv4LtwkJ"
      },
      "execution_count": null,
      "outputs": []
    },
    {
      "cell_type": "code",
      "source": [
        "# '종로구' 행의 '소계.1' ~ '계류기증' 열 출력, .iloc 이용\n",
        "\n",
        "\n"
      ],
      "metadata": {
        "id": "S3yDfngnxcLb"
      },
      "execution_count": null,
      "outputs": []
    },
    {
      "cell_type": "markdown",
      "source": [
        "* 선택한 행과 열을 변수에 저장하기"
      ],
      "metadata": {
        "id": "PUpFaTrrcHn3"
      }
    },
    {
      "cell_type": "code",
      "source": [
        "# '강남구','강동구' 행의 '시점' ~ '계류기증' 열 데이터를 'rdata' 변수에 저장\n",
        "\n"
      ],
      "metadata": {
        "id": "ZloiiOLbcJXB"
      },
      "execution_count": null,
      "outputs": []
    },
    {
      "cell_type": "markdown",
      "source": [
        "* 열이름 변경\n",
        " - 변수명.columns=['열이름1', '열이름2',....]\n",
        " - 변수명.rename(columns = {'열이름1':‘새로운 열이름1', ...}, inplace= True)"
      ],
      "metadata": {
        "id": "ePx1yn-WcR89"
      }
    },
    {
      "cell_type": "code",
      "source": [
        "# rdata 변수의 열이름을 확인한 후,\n",
        "# '시점','전체합계','소계','인도','입양분양','폐사안락사','계류기증' 로 열이름 변경\n",
        "\n"
      ],
      "metadata": {
        "id": "e0JI-BDDcben"
      },
      "execution_count": null,
      "outputs": []
    },
    {
      "cell_type": "code",
      "source": [
        "# '입양분양' --> '입양/분양', '폐사안락사' --> '폐사/안락사' 로 변경\n",
        "\n"
      ],
      "metadata": {
        "id": "jPMomA6jeDJQ"
      },
      "execution_count": null,
      "outputs": []
    }
  ]
}